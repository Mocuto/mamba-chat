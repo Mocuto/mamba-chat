{
 "cells": [
  {
   "cell_type": "code",
   "execution_count": 1,
   "metadata": {},
   "outputs": [],
   "source": [
    "import json"
   ]
  },
  {
   "cell_type": "code",
   "execution_count": 2,
   "metadata": {},
   "outputs": [
    {
     "data": {
      "text/plain": [
       "80"
      ]
     },
     "execution_count": 2,
     "metadata": {},
     "output_type": "execute_result"
    }
   ],
   "source": [
    "dataset = []\n",
    "with open('data/instruction_summary_output.txt') as f:\n",
    "    dataset = json.load(f)\n",
    "len(dataset)"
   ]
  },
  {
   "cell_type": "code",
   "execution_count": 3,
   "metadata": {},
   "outputs": [
    {
     "data": {
      "text/plain": [
       "0.125"
      ]
     },
     "execution_count": 3,
     "metadata": {},
     "output_type": "execute_result"
    }
   ],
   "source": [
    "10 / 80"
   ]
  },
  {
   "cell_type": "code",
   "execution_count": 6,
   "metadata": {},
   "outputs": [
    {
     "data": {
      "text/plain": [
       "293"
      ]
     },
     "execution_count": 6,
     "metadata": {},
     "output_type": "execute_result"
    }
   ],
   "source": [
    "preamble1 = \"Please summarize the following instructions in five words or less: \"\n",
    "preamble2 = \"The following are instructions for a task. Please summarize them in five words or less:\\n\"\n",
    "preamble3 = \"Write a super short (less than 5 words) summary of the following instructions: \"\n",
    "preamble4 = \"Write a concise header for a task with the following instructions: \"\n",
    "preambles = [preamble1, preamble2, preamble3, preamble4]\n",
    "sys_prompt = \"You are a helpful AI assistant.\"\n",
    "convo_dataset = []\n",
    "holdout_amount = 10\n",
    "for index, item in enumerate(dataset):\n",
    "    summary = item['summary']\n",
    "    instructions = item['instructions']\n",
    "    for preamble in preambles:\n",
    "        convo_dataset.append([\n",
    "            {\n",
    "                \"role\": \"system\",\n",
    "                \"content\": sys_prompt,\n",
    "            }, {\n",
    "                \"role\": \"user\",\n",
    "                \"content\": preamble + instructions\n",
    "            }, {\n",
    "                \"role\": \"assistant\",\n",
    "                \"content\": summary\n",
    "            }\n",
    "        ])\n",
    "        if index > len(dataset) - holdout_amount:\n",
    "            break\n",
    "len(convo_dataset)"
   ]
  },
  {
   "cell_type": "code",
   "execution_count": 7,
   "metadata": {},
   "outputs": [],
   "source": [
    "# Save convo_dataset to a jsonl file\n",
    "with open('data/instruction_summary_convo_dataset.jsonl', 'w') as f:\n",
    "    for item in convo_dataset:\n",
    "        f.write(json.dumps(item) + '\\n')"
   ]
  },
  {
   "cell_type": "code",
   "execution_count": null,
   "metadata": {},
   "outputs": [],
   "source": []
  }
 ],
 "metadata": {
  "kernelspec": {
   "display_name": "m2",
   "language": "python",
   "name": "python3"
  },
  "language_info": {
   "codemirror_mode": {
    "name": "ipython",
    "version": 3
   },
   "file_extension": ".py",
   "mimetype": "text/x-python",
   "name": "python",
   "nbconvert_exporter": "python",
   "pygments_lexer": "ipython3",
   "version": "3.10.12"
  }
 },
 "nbformat": 4,
 "nbformat_minor": 2
}
